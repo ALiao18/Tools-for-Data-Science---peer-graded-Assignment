{
 "cells": [
  {
   "cell_type": "markdown",
   "id": "976a3603",
   "metadata": {},
   "source": [
    "# Data Science Tools and Ecosystem "
   ]
  },
  {
   "cell_type": "markdown",
   "id": "98753e47",
   "metadata": {},
   "source": [
    "#### In this notebook, Data Science Tools and Ecosystem are summarized."
   ]
  },
  {
   "cell_type": "markdown",
   "id": "cbe5209d",
   "metadata": {},
   "source": [
    "**Objectives:**"
   ]
  },
  {
   "cell_type": "code",
   "execution_count": 9,
   "id": "934b88af",
   "metadata": {},
   "outputs": [
    {
     "name": "stdout",
     "output_type": "stream",
     "text": [
      "{'list commonly used libraries for Data science', 'show arithmetic functions of python', 'List popular languages for Data Science'}\n"
     ]
    }
   ],
   "source": [
    "list = {\"List popular languages for Data Science\", \"list commonly used libraries for Data science\", \"show arithmetic functions of python\"}\n",
    "print(list)"
   ]
  },
  {
   "cell_type": "markdown",
   "id": "c32d222b",
   "metadata": {},
   "source": [
    "#### Some of the popular languages that Data Scientists use are:"
   ]
  },
  {
   "cell_type": "code",
   "execution_count": 2,
   "id": "412f5158",
   "metadata": {},
   "outputs": [
    {
     "name": "stdout",
     "output_type": "stream",
     "text": [
      "('R', 'Python', 'C')\n"
     ]
    }
   ],
   "source": [
    "list = (\"R\", \"Python\", \"C\")\n",
    "print(list)"
   ]
  },
  {
   "cell_type": "markdown",
   "id": "11b485cc",
   "metadata": {},
   "source": [
    "#### Some of the commonly used libraries used by Data Scientists include:"
   ]
  },
  {
   "cell_type": "code",
   "execution_count": 3,
   "id": "262d4cd3",
   "metadata": {},
   "outputs": [
    {
     "name": "stdout",
     "output_type": "stream",
     "text": [
      "('TensorFlow', 'NumPy', 'SciPy', 'Pandas', 'Matplotlib')\n"
     ]
    }
   ],
   "source": [
    "list = (\"TensorFlow\", \"NumPy\", \"SciPy\", \"Pandas\", \"Matplotlib\")\n",
    "print(list)"
   ]
  },
  {
   "cell_type": "markdown",
   "id": "57514526",
   "metadata": {},
   "source": [
    "### Below are a few examples of evaluating arithmetic expressions in Python:"
   ]
  },
  {
   "cell_type": "code",
   "execution_count": 4,
   "id": "35a072f9",
   "metadata": {},
   "outputs": [
    {
     "name": "stdout",
     "output_type": "stream",
     "text": [
      "17\n"
     ]
    }
   ],
   "source": [
    "#This a simple arithmetic expression to mutiply then add integers\n",
    "print((3*4)+5)"
   ]
  },
  {
   "cell_type": "code",
   "execution_count": 7,
   "id": "6813b8a3",
   "metadata": {},
   "outputs": [
    {
     "name": "stdout",
     "output_type": "stream",
     "text": [
      "3.3333333333333335\n"
     ]
    }
   ],
   "source": [
    " #This will convert 200 minutes to hours by diving by 60\n",
    "print(200/60)"
   ]
  },
  {
   "cell_type": "markdown",
   "id": "a33137ca",
   "metadata": {},
   "source": [
    "## Author\n",
    "## Andrew Liao"
   ]
  },
  {
   "cell_type": "code",
   "execution_count": null,
   "id": "53f1d7fb",
   "metadata": {},
   "outputs": [],
   "source": []
  }
 ],
 "metadata": {
  "kernelspec": {
   "display_name": "Python 3 (ipykernel)",
   "language": "python",
   "name": "python3"
  },
  "language_info": {
   "codemirror_mode": {
    "name": "ipython",
    "version": 3
   },
   "file_extension": ".py",
   "mimetype": "text/x-python",
   "name": "python",
   "nbconvert_exporter": "python",
   "pygments_lexer": "ipython3",
   "version": "3.10.6"
  }
 },
 "nbformat": 4,
 "nbformat_minor": 5
}
